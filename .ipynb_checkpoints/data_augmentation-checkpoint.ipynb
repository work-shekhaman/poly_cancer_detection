{
 "cells": [
  {
   "cell_type": "code",
   "execution_count": 10,
   "id": "78e2a039-1d58-4c10-8b05-f88328dc8a1c",
   "metadata": {},
   "outputs": [],
   "source": [
    "import os\n",
    "import cv2\n",
    "import numpy as np\n",
    "import albumentations as A\n",
    "\n",
    "# Set the paths for input and output directories\n",
    "input_dir = \"CVC-ClinicDB/Preprocessed\"\n",
    "mask_dir = \"CVC-ClinicDB/Preprocessed_mask\"\n",
    "output_dir = \"CVC-ClinicDB/Augmented\"\n",
    "output_mask_dir = \"CVC-ClinicDB/Augmented_mask\"\n",
    "\n",
    "# Create output directories if they don't exist\n",
    "os.makedirs(output_dir, exist_ok=True)\n",
    "os.makedirs(output_mask_dir, exist_ok=True)\n",
    "\n",
    "# Get the list of image files\n",
    "image_files = sorted(os.listdir(input_dir))\n",
    "\n",
    "# Define functions for additional augmentations\n",
    "def apply_sobel(image, **kwargs):\n",
    "    sobel_x = cv2.Sobel(image, cv2.CV_64F, 1, 0, ksize=3)\n",
    "    sobel_y = cv2.Sobel(image, cv2.CV_64F, 0, 1, ksize=3)\n",
    "    sobel = np.sqrt(sobel_x**2 + sobel_y**2)\n",
    "    return sobel\n",
    "\n",
    "def apply_gaussian(image, **kwargs):\n",
    "    return cv2.GaussianBlur(image, (5, 5), 0)\n",
    "\n",
    "\n",
    "# Define the augmentation pipeline\n",
    "augmentation_pipeline = A.Compose([\n",
    "    A.HorizontalFlip(p=0.3),\n",
    "    A.VerticalFlip(p=0.3),\n",
    "    A.RandomRotate90(p=0.3),\n",
    "    A.Transpose(p=0.3),\n",
    "    A.OneOf([\n",
    "        A.RandomContrast(),\n",
    "        A.RandomGamma(),\n",
    "        A.RandomBrightness(),\n",
    "    ], p=0.3),\n",
    "    A.OneOf([\n",
    "        A.ElasticTransform(alpha=120, sigma=120 * 0.05, alpha_affine=120 * 0.03),\n",
    "        A.GridDistortion(),\n",
    "        A.OpticalDistortion(distort_limit=2, shift_limit=0.5),\n",
    "    ], p=0.3),\n",
    "    A.OneOf([\n",
    "        A.Blur(blur_limit=3),\n",
    "        A.MedianBlur(blur_limit=3),\n",
    "        A.GaussianBlur(blur_limit=3),\n",
    "    ], p=0.3),\n",
    "    #A.BlendAlpha(always_apply=False, p=0.2, alpha=(0.5, 1.0), blend_limit=(30, 70)),  # Add blending with 50% probability\n",
    "    A.IAAAdditiveGaussianNoise(p=0.3),  # Add Gaussian noise\n",
    "    A.RandomCrop(width=128, height=128, p=0.1),  # Add random cropping\n",
    "    A.ShiftScaleRotate(shift_limit=0.2, scale_limit=0.2, rotate_limit=20, p=0.3),  # Add translation\n",
    "    A.RGBShift(p=0.3),  # Add color space shifting\n",
    "    A.RandomBrightnessContrast(p=0.3),  # Add brightness adjustment\n",
    "    A.Lambda(image=apply_sobel, mask=None, p=0.2),  # Apply Sobel with 20% probability\n",
    "    A.Lambda(image=apply_gaussian, mask=None, p=0.2),  # Apply Gaussian with 20% probability\n",
    "    A.MotionBlur(p=0.1),  # Add motion blur with 20% probability\n",
    "    # Add more augmentations as needed\n",
    "])\n",
    "\n",
    "# Perform data augmentation and save the augmented images and masks\n",
    "for image_file in image_files:\n",
    "    # Load the image and mask\n",
    "    image_path = os.path.join(input_dir, image_file)\n",
    "    mask_path = os.path.join(mask_dir, image_file)\n",
    "\n",
    "    image = cv2.imread(image_path)\n",
    "    mask = cv2.imread(mask_path, cv2.IMREAD_GRAYSCALE)\n",
    "\n",
    "    # Perform augmentation\n",
    "    for i in range(1, 11):  # You can change the range based on how many augmentations you want\n",
    "        augmented = augmentation_pipeline(image=image, mask=mask)\n",
    "        augmented_image = augmented['image']\n",
    "        augmented_mask = augmented['mask']\n",
    "\n",
    "        # Save augmented images and masks\n",
    "        base_name = os.path.splitext(image_file)[0]\n",
    "        output_image_path = os.path.join(output_dir, f\"{base_name}_{i}.tif\")\n",
    "        cv2.imwrite(output_image_path, augmented_image)\n",
    "\n",
    "        # Save corresponding augmented mask\n",
    "        output_mask_path = os.path.join(output_mask_dir, f\"{base_name}_{i}.tif\")\n",
    "        cv2.imwrite(output_mask_path, augmented_mask)"
   ]
  },
  {
   "cell_type": "code",
   "execution_count": 11,
   "id": "b1013c38-688c-4dd3-b755-9ec821c36945",
   "metadata": {},
   "outputs": [
    {
     "data": {
      "text/plain": [
       "5"
      ]
     },
     "execution_count": 11,
     "metadata": {},
     "output_type": "execute_result"
    }
   ],
   "source": [
    "3+2"
   ]
  },
  {
   "cell_type": "code",
   "execution_count": null,
   "id": "38182319-1fb3-4852-84c6-748f9eba9c8b",
   "metadata": {},
   "outputs": [],
   "source": []
  }
 ],
 "metadata": {
  "kernelspec": {
   "display_name": "polypdetection",
   "language": "python",
   "name": "polypdetection"
  },
  "language_info": {
   "codemirror_mode": {
    "name": "ipython",
    "version": 3
   },
   "file_extension": ".py",
   "mimetype": "text/x-python",
   "name": "python",
   "nbconvert_exporter": "python",
   "pygments_lexer": "ipython3",
   "version": "3.11.0"
  }
 },
 "nbformat": 4,
 "nbformat_minor": 5
}

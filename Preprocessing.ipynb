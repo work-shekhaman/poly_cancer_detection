{
 "cells": [
  {
   "cell_type": "code",
   "execution_count": 4,
   "id": "fa05f04b-a3a3-4a90-9e27-66db7a9a8f3b",
   "metadata": {},
   "outputs": [
    {
     "name": "stderr",
     "output_type": "stream",
     "text": [
      "C:\\Users\\91635\\AppData\\Local\\Temp\\ipykernel_8688\\2268640546.py:27: DeprecationWarning: Starting with ImageIO v3 the behavior of this function will switch to that of iio.v3.imread. To keep the current behavior (and make this warning disappear) use `import imageio.v2 as imageio` or call `imageio.v2.imread` directly.\n",
      "  image = imageio.imread(image_path)\n",
      "C:\\Users\\91635\\AppData\\Local\\Temp\\ipykernel_8688\\2268640546.py:28: DeprecationWarning: Starting with ImageIO v3 the behavior of this function will switch to that of iio.v3.imread. To keep the current behavior (and make this warning disappear) use `import imageio.v2 as imageio` or call `imageio.v2.imread` directly.\n",
      "  mask = imageio.imread(mask_path)\n"
     ]
    }
   ],
   "source": [
    "import os\n",
    "import cv2\n",
    "import imageio\n",
    "from skimage import exposure, img_as_ubyte\n",
    "\n",
    "# Define preprocessing functions\n",
    "def resize_and_normalize(image, target_size=(256, 256)):\n",
    "    resized_image = cv2.resize(image, target_size)\n",
    "    normalized_image = resized_image / 255.0  # Normalize to the range [0, 1]\n",
    "    return normalized_image\n",
    "\n",
    "def histogram_equalization(image):\n",
    "    equalized_image = exposure.equalize_hist(image)\n",
    "    return img_as_ubyte(equalized_image)\n",
    "\n",
    "def apply_gaussian_smoothing(image, sigma=1):\n",
    "    smoothed_image = cv2.GaussianBlur(image, (0, 0), sigma)\n",
    "    return smoothed_image\n",
    "\n",
    "def save_preprocessed_image(image, save_path, filename):\n",
    "    # Save preprocessed image\n",
    "    imageio.imwrite(os.path.join(save_path, f'{filename}.tif'), img_as_ubyte(image))\n",
    "\n",
    "# Define preprocessing function for image and mask\n",
    "def preprocess_image_and_mask(image_path, mask_path, save_folder,save_folder_mask):\n",
    "    # Read the image and mask\n",
    "    image = imageio.imread(image_path)\n",
    "    mask = imageio.imread(mask_path)\n",
    "\n",
    "    # Convert the image to RGB if it's not already\n",
    "    if image.shape[-1] == 1:\n",
    "        image = image.squeeze()\n",
    "        image = cv2.cvtColor(image, cv2.COLOR_GRAY2RGB)\n",
    "\n",
    "    # Resize and normalize image\n",
    "    resized_image = resize_and_normalize(image)\n",
    "\n",
    "    # Resize mask using the same dimensions as the image\n",
    "    resized_mask = resize_and_normalize(mask)\n",
    "\n",
    "    # Apply preprocessing steps\n",
    "    equalized_image = histogram_equalization(resized_image)\n",
    "    smoothed_image = apply_gaussian_smoothing(equalized_image)\n",
    "\n",
    "    # Save preprocessed image\n",
    "    filename = os.path.splitext(os.path.basename(image_path))[0]\n",
    "    save_preprocessed_image(smoothed_image, save_folder, filename)\n",
    "    save_preprocessed_image(resized_mask, save_folder_mask, filename)\n",
    "    \n",
    "    return smoothed_image, resized_mask\n",
    "\n",
    "# Path to image and mask folders\n",
    "image_folder = 'CVC-ClinicDB/Original'\n",
    "mask_folder = 'CVC-ClinicDB/Ground Truth'\n",
    "\n",
    "# Create a folder to save preprocessed images\n",
    "save_folder = 'CVC-ClinicDB/Preprocessed'\n",
    "save_folder_mask = 'CVC-ClinicDB/Preprocessed_mask'\n",
    "\n",
    "os.makedirs(save_folder, exist_ok=True)\n",
    "os.makedirs(save_folder_mask, exist_ok=True)\n",
    "\n",
    "# Get a list of all image files in the folder\n",
    "image_files = [f for f in os.listdir(image_folder) if f.endswith('.tif')]\n",
    "\n",
    "# Perform preprocessing for each image\n",
    "for image_file in image_files:\n",
    "    image_path = os.path.join(image_folder, image_file)\n",
    "    mask_file = f'{os.path.splitext(image_file)[0]}.tif'\n",
    "    mask_path = os.path.join(mask_folder, mask_file)\n",
    "\n",
    "    # Check if the corresponding mask file exists\n",
    "    if os.path.exists(mask_path):\n",
    "        preprocess_image_and_mask(image_path, mask_path, save_folder,save_folder_mask)\n",
    "    else:\n",
    "        print(f\"Warning: Mask not found for {image_file}\")"
   ]
  },
  {
   "cell_type": "code",
   "execution_count": null,
   "id": "d1900f7f-9ab8-46d8-a41f-c02a3d0dc102",
   "metadata": {},
   "outputs": [],
   "source": []
  }
 ],
 "metadata": {
  "kernelspec": {
   "display_name": "polypdetection",
   "language": "python",
   "name": "polypdetection"
  },
  "language_info": {
   "codemirror_mode": {
    "name": "ipython",
    "version": 3
   },
   "file_extension": ".py",
   "mimetype": "text/x-python",
   "name": "python",
   "nbconvert_exporter": "python",
   "pygments_lexer": "ipython3",
   "version": "3.11.0"
  }
 },
 "nbformat": 4,
 "nbformat_minor": 5
}
